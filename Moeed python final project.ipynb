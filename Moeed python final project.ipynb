{
 "cells": [
  {
   "cell_type": "code",
   "execution_count": 1,
   "id": "c35eb895",
   "metadata": {},
   "outputs": [],
   "source": [
    "import pandas as pd\n",
    "import numpy as np\n",
    "import os\n",
    "from sklearn.model_selection import train_test_split\n",
    "from sklearn import preprocessing,metrics,linear_model\n",
    "from sklearn.metrics import mean_squared_log_error, r2_score\n",
    "import matplotlib.pyplot as plt\n",
    "import seaborn as sns"
   ]
  },
  {
   "cell_type": "code",
   "execution_count": 2,
   "id": "29a95bbb",
   "metadata": {},
   "outputs": [
    {
     "data": {
      "text/html": [
       "<div>\n",
       "<style scoped>\n",
       "    .dataframe tbody tr th:only-of-type {\n",
       "        vertical-align: middle;\n",
       "    }\n",
       "\n",
       "    .dataframe tbody tr th {\n",
       "        vertical-align: top;\n",
       "    }\n",
       "\n",
       "    .dataframe thead th {\n",
       "        text-align: right;\n",
       "    }\n",
       "</style>\n",
       "<table border=\"1\" class=\"dataframe\">\n",
       "  <thead>\n",
       "    <tr style=\"text-align: right;\">\n",
       "      <th></th>\n",
       "      <th>age</th>\n",
       "      <th>sex</th>\n",
       "      <th>cp</th>\n",
       "      <th>trestbps</th>\n",
       "      <th>chol</th>\n",
       "      <th>fbs</th>\n",
       "      <th>restecg</th>\n",
       "      <th>thalach</th>\n",
       "      <th>exang</th>\n",
       "      <th>oldpeak</th>\n",
       "      <th>slope</th>\n",
       "      <th>ca</th>\n",
       "      <th>thal</th>\n",
       "      <th>target</th>\n",
       "    </tr>\n",
       "  </thead>\n",
       "  <tbody>\n",
       "    <tr>\n",
       "      <th>0</th>\n",
       "      <td>52</td>\n",
       "      <td>1</td>\n",
       "      <td>0</td>\n",
       "      <td>125</td>\n",
       "      <td>212</td>\n",
       "      <td>0</td>\n",
       "      <td>1</td>\n",
       "      <td>168</td>\n",
       "      <td>0</td>\n",
       "      <td>1.0</td>\n",
       "      <td>2</td>\n",
       "      <td>2</td>\n",
       "      <td>3</td>\n",
       "      <td>0</td>\n",
       "    </tr>\n",
       "    <tr>\n",
       "      <th>1</th>\n",
       "      <td>53</td>\n",
       "      <td>1</td>\n",
       "      <td>0</td>\n",
       "      <td>140</td>\n",
       "      <td>203</td>\n",
       "      <td>1</td>\n",
       "      <td>0</td>\n",
       "      <td>155</td>\n",
       "      <td>1</td>\n",
       "      <td>3.1</td>\n",
       "      <td>0</td>\n",
       "      <td>0</td>\n",
       "      <td>3</td>\n",
       "      <td>0</td>\n",
       "    </tr>\n",
       "    <tr>\n",
       "      <th>2</th>\n",
       "      <td>70</td>\n",
       "      <td>1</td>\n",
       "      <td>0</td>\n",
       "      <td>145</td>\n",
       "      <td>174</td>\n",
       "      <td>0</td>\n",
       "      <td>1</td>\n",
       "      <td>125</td>\n",
       "      <td>1</td>\n",
       "      <td>2.6</td>\n",
       "      <td>0</td>\n",
       "      <td>0</td>\n",
       "      <td>3</td>\n",
       "      <td>0</td>\n",
       "    </tr>\n",
       "    <tr>\n",
       "      <th>3</th>\n",
       "      <td>61</td>\n",
       "      <td>1</td>\n",
       "      <td>0</td>\n",
       "      <td>148</td>\n",
       "      <td>203</td>\n",
       "      <td>0</td>\n",
       "      <td>1</td>\n",
       "      <td>161</td>\n",
       "      <td>0</td>\n",
       "      <td>0.0</td>\n",
       "      <td>2</td>\n",
       "      <td>1</td>\n",
       "      <td>3</td>\n",
       "      <td>0</td>\n",
       "    </tr>\n",
       "    <tr>\n",
       "      <th>4</th>\n",
       "      <td>62</td>\n",
       "      <td>0</td>\n",
       "      <td>0</td>\n",
       "      <td>138</td>\n",
       "      <td>294</td>\n",
       "      <td>1</td>\n",
       "      <td>1</td>\n",
       "      <td>106</td>\n",
       "      <td>0</td>\n",
       "      <td>1.9</td>\n",
       "      <td>1</td>\n",
       "      <td>3</td>\n",
       "      <td>2</td>\n",
       "      <td>0</td>\n",
       "    </tr>\n",
       "    <tr>\n",
       "      <th>5</th>\n",
       "      <td>58</td>\n",
       "      <td>0</td>\n",
       "      <td>0</td>\n",
       "      <td>100</td>\n",
       "      <td>248</td>\n",
       "      <td>0</td>\n",
       "      <td>0</td>\n",
       "      <td>122</td>\n",
       "      <td>0</td>\n",
       "      <td>1.0</td>\n",
       "      <td>1</td>\n",
       "      <td>0</td>\n",
       "      <td>2</td>\n",
       "      <td>1</td>\n",
       "    </tr>\n",
       "    <tr>\n",
       "      <th>6</th>\n",
       "      <td>58</td>\n",
       "      <td>1</td>\n",
       "      <td>0</td>\n",
       "      <td>114</td>\n",
       "      <td>318</td>\n",
       "      <td>0</td>\n",
       "      <td>2</td>\n",
       "      <td>140</td>\n",
       "      <td>0</td>\n",
       "      <td>4.4</td>\n",
       "      <td>0</td>\n",
       "      <td>3</td>\n",
       "      <td>1</td>\n",
       "      <td>0</td>\n",
       "    </tr>\n",
       "    <tr>\n",
       "      <th>7</th>\n",
       "      <td>55</td>\n",
       "      <td>1</td>\n",
       "      <td>0</td>\n",
       "      <td>160</td>\n",
       "      <td>289</td>\n",
       "      <td>0</td>\n",
       "      <td>0</td>\n",
       "      <td>145</td>\n",
       "      <td>1</td>\n",
       "      <td>0.8</td>\n",
       "      <td>1</td>\n",
       "      <td>1</td>\n",
       "      <td>3</td>\n",
       "      <td>0</td>\n",
       "    </tr>\n",
       "    <tr>\n",
       "      <th>8</th>\n",
       "      <td>46</td>\n",
       "      <td>1</td>\n",
       "      <td>0</td>\n",
       "      <td>120</td>\n",
       "      <td>249</td>\n",
       "      <td>0</td>\n",
       "      <td>0</td>\n",
       "      <td>144</td>\n",
       "      <td>0</td>\n",
       "      <td>0.8</td>\n",
       "      <td>2</td>\n",
       "      <td>0</td>\n",
       "      <td>3</td>\n",
       "      <td>0</td>\n",
       "    </tr>\n",
       "    <tr>\n",
       "      <th>9</th>\n",
       "      <td>54</td>\n",
       "      <td>1</td>\n",
       "      <td>0</td>\n",
       "      <td>122</td>\n",
       "      <td>286</td>\n",
       "      <td>0</td>\n",
       "      <td>0</td>\n",
       "      <td>116</td>\n",
       "      <td>1</td>\n",
       "      <td>3.2</td>\n",
       "      <td>1</td>\n",
       "      <td>2</td>\n",
       "      <td>2</td>\n",
       "      <td>0</td>\n",
       "    </tr>\n",
       "  </tbody>\n",
       "</table>\n",
       "</div>"
      ],
      "text/plain": [
       "   age  sex  cp  trestbps  chol  fbs  restecg  thalach  exang  oldpeak  slope  \\\n",
       "0   52    1   0       125   212    0        1      168      0      1.0      2   \n",
       "1   53    1   0       140   203    1        0      155      1      3.1      0   \n",
       "2   70    1   0       145   174    0        1      125      1      2.6      0   \n",
       "3   61    1   0       148   203    0        1      161      0      0.0      2   \n",
       "4   62    0   0       138   294    1        1      106      0      1.9      1   \n",
       "5   58    0   0       100   248    0        0      122      0      1.0      1   \n",
       "6   58    1   0       114   318    0        2      140      0      4.4      0   \n",
       "7   55    1   0       160   289    0        0      145      1      0.8      1   \n",
       "8   46    1   0       120   249    0        0      144      0      0.8      2   \n",
       "9   54    1   0       122   286    0        0      116      1      3.2      1   \n",
       "\n",
       "   ca  thal  target  \n",
       "0   2     3       0  \n",
       "1   0     3       0  \n",
       "2   0     3       0  \n",
       "3   1     3       0  \n",
       "4   3     2       0  \n",
       "5   0     2       1  \n",
       "6   3     1       0  \n",
       "7   1     3       0  \n",
       "8   0     3       0  \n",
       "9   2     2       0  "
      ]
     },
     "execution_count": 2,
     "metadata": {},
     "output_type": "execute_result"
    }
   ],
   "source": [
    "data=pd.read_csv(r\"C:\\Users\\kamiyab jawan final assignment\\heart.csv\")\n",
    "data.head(10)"
   ]
  },
  {
   "cell_type": "markdown",
   "id": "5bfba4fe",
   "metadata": {},
   "source": [
    "### DATA CLEANING AND ANALYZING"
   ]
  },
  {
   "cell_type": "code",
   "execution_count": 3,
   "id": "2838d243",
   "metadata": {},
   "outputs": [
    {
     "data": {
      "text/plain": [
       "(1025, 14)"
      ]
     },
     "execution_count": 3,
     "metadata": {},
     "output_type": "execute_result"
    }
   ],
   "source": [
    "data.shape"
   ]
  },
  {
   "cell_type": "code",
   "execution_count": 4,
   "id": "bf8378d8",
   "metadata": {},
   "outputs": [
    {
     "data": {
      "text/plain": [
       "age         False\n",
       "sex         False\n",
       "cp          False\n",
       "trestbps    False\n",
       "chol        False\n",
       "fbs         False\n",
       "restecg     False\n",
       "thalach     False\n",
       "exang       False\n",
       "oldpeak     False\n",
       "slope       False\n",
       "ca          False\n",
       "thal        False\n",
       "target      False\n",
       "dtype: bool"
      ]
     },
     "execution_count": 4,
     "metadata": {},
     "output_type": "execute_result"
    }
   ],
   "source": [
    "data.isna().any()"
   ]
  },
  {
   "cell_type": "code",
   "execution_count": 5,
   "id": "594e2483",
   "metadata": {},
   "outputs": [
    {
     "data": {
      "text/plain": [
       "age         0\n",
       "sex         0\n",
       "cp          0\n",
       "trestbps    0\n",
       "chol        0\n",
       "fbs         0\n",
       "restecg     0\n",
       "thalach     0\n",
       "exang       0\n",
       "oldpeak     0\n",
       "slope       0\n",
       "ca          0\n",
       "thal        0\n",
       "target      0\n",
       "dtype: int64"
      ]
     },
     "execution_count": 5,
     "metadata": {},
     "output_type": "execute_result"
    }
   ],
   "source": [
    "data.isna().sum()"
   ]
  },
  {
   "cell_type": "markdown",
   "id": "b1998d95",
   "metadata": {},
   "source": [
    "###  DATA TYPE "
   ]
  },
  {
   "cell_type": "code",
   "execution_count": 6,
   "id": "12b33bcd",
   "metadata": {},
   "outputs": [
    {
     "data": {
      "text/plain": [
       "age           int64\n",
       "sex           int64\n",
       "cp            int64\n",
       "trestbps      int64\n",
       "chol          int64\n",
       "fbs           int64\n",
       "restecg       int64\n",
       "thalach       int64\n",
       "exang         int64\n",
       "oldpeak     float64\n",
       "slope         int64\n",
       "ca            int64\n",
       "thal          int64\n",
       "target        int64\n",
       "dtype: object"
      ]
     },
     "execution_count": 6,
     "metadata": {},
     "output_type": "execute_result"
    }
   ],
   "source": [
    "data.dtypes"
   ]
  },
  {
   "cell_type": "markdown",
   "id": "fe55bf86",
   "metadata": {},
   "source": [
    "###  CHARACTERISTICS OF DATA"
   ]
  },
  {
   "cell_type": "code",
   "execution_count": 14,
   "id": "ea70a51f",
   "metadata": {},
   "outputs": [
    {
     "name": "stdout",
     "output_type": "stream",
     "text": [
      "<class 'pandas.core.frame.DataFrame'>\n",
      "Int64Index: 604 entries, 4 to 1023\n",
      "Data columns (total 14 columns):\n",
      " #   Column    Non-Null Count  Dtype  \n",
      "---  ------    --------------  -----  \n",
      " 0   age       604 non-null    int64  \n",
      " 1   sex       604 non-null    int64  \n",
      " 2   cp        604 non-null    int64  \n",
      " 3   trestbps  604 non-null    int64  \n",
      " 4   chol      604 non-null    int64  \n",
      " 5   fbs       604 non-null    int64  \n",
      " 6   restecg   604 non-null    int64  \n",
      " 7   thalach   604 non-null    int64  \n",
      " 8   exang     604 non-null    int64  \n",
      " 9   oldpeak   604 non-null    float64\n",
      " 10  slope     604 non-null    int64  \n",
      " 11  ca        604 non-null    int64  \n",
      " 12  thal      604 non-null    int64  \n",
      " 13  target    604 non-null    int64  \n",
      "dtypes: float64(1), int64(13)\n",
      "memory usage: 70.8 KB\n"
     ]
    }
   ],
   "source": [
    "data.info()"
   ]
  },
  {
   "cell_type": "code",
   "execution_count": 15,
   "id": "3c954ff6",
   "metadata": {},
   "outputs": [
    {
     "data": {
      "text/html": [
       "<div>\n",
       "<style scoped>\n",
       "    .dataframe tbody tr th:only-of-type {\n",
       "        vertical-align: middle;\n",
       "    }\n",
       "\n",
       "    .dataframe tbody tr th {\n",
       "        vertical-align: top;\n",
       "    }\n",
       "\n",
       "    .dataframe thead th {\n",
       "        text-align: right;\n",
       "    }\n",
       "</style>\n",
       "<table border=\"1\" class=\"dataframe\">\n",
       "  <thead>\n",
       "    <tr style=\"text-align: right;\">\n",
       "      <th></th>\n",
       "      <th>age</th>\n",
       "      <th>sex</th>\n",
       "      <th>cp</th>\n",
       "      <th>trestbps</th>\n",
       "      <th>chol</th>\n",
       "      <th>fbs</th>\n",
       "      <th>restecg</th>\n",
       "      <th>thalach</th>\n",
       "      <th>exang</th>\n",
       "      <th>oldpeak</th>\n",
       "      <th>slope</th>\n",
       "      <th>ca</th>\n",
       "      <th>thal</th>\n",
       "      <th>target</th>\n",
       "    </tr>\n",
       "  </thead>\n",
       "  <tbody>\n",
       "    <tr>\n",
       "      <th>count</th>\n",
       "      <td>604.000000</td>\n",
       "      <td>604.000000</td>\n",
       "      <td>604.000000</td>\n",
       "      <td>604.000000</td>\n",
       "      <td>604.000000</td>\n",
       "      <td>604.000000</td>\n",
       "      <td>604.000000</td>\n",
       "      <td>604.000000</td>\n",
       "      <td>604.000000</td>\n",
       "      <td>604.000000</td>\n",
       "      <td>604.000000</td>\n",
       "      <td>604.000000</td>\n",
       "      <td>604.000000</td>\n",
       "      <td>604.000000</td>\n",
       "    </tr>\n",
       "    <tr>\n",
       "      <th>mean</th>\n",
       "      <td>53.839404</td>\n",
       "      <td>0.571192</td>\n",
       "      <td>1.129139</td>\n",
       "      <td>129.938742</td>\n",
       "      <td>244.274834</td>\n",
       "      <td>0.144040</td>\n",
       "      <td>0.533113</td>\n",
       "      <td>152.718543</td>\n",
       "      <td>0.226821</td>\n",
       "      <td>0.800497</td>\n",
       "      <td>1.481788</td>\n",
       "      <td>0.528146</td>\n",
       "      <td>1.870861</td>\n",
       "      <td>0.703642</td>\n",
       "    </tr>\n",
       "    <tr>\n",
       "      <th>std</th>\n",
       "      <td>9.590749</td>\n",
       "      <td>0.495316</td>\n",
       "      <td>1.005728</td>\n",
       "      <td>16.226155</td>\n",
       "      <td>48.284027</td>\n",
       "      <td>0.351421</td>\n",
       "      <td>0.534603</td>\n",
       "      <td>23.063261</td>\n",
       "      <td>0.419123</td>\n",
       "      <td>0.998797</td>\n",
       "      <td>0.613285</td>\n",
       "      <td>0.854722</td>\n",
       "      <td>0.368600</td>\n",
       "      <td>0.457029</td>\n",
       "    </tr>\n",
       "    <tr>\n",
       "      <th>min</th>\n",
       "      <td>29.000000</td>\n",
       "      <td>0.000000</td>\n",
       "      <td>0.000000</td>\n",
       "      <td>94.000000</td>\n",
       "      <td>141.000000</td>\n",
       "      <td>0.000000</td>\n",
       "      <td>0.000000</td>\n",
       "      <td>71.000000</td>\n",
       "      <td>0.000000</td>\n",
       "      <td>0.000000</td>\n",
       "      <td>0.000000</td>\n",
       "      <td>0.000000</td>\n",
       "      <td>0.000000</td>\n",
       "      <td>0.000000</td>\n",
       "    </tr>\n",
       "    <tr>\n",
       "      <th>25%</th>\n",
       "      <td>46.000000</td>\n",
       "      <td>0.000000</td>\n",
       "      <td>0.000000</td>\n",
       "      <td>120.000000</td>\n",
       "      <td>209.000000</td>\n",
       "      <td>0.000000</td>\n",
       "      <td>0.000000</td>\n",
       "      <td>140.000000</td>\n",
       "      <td>0.000000</td>\n",
       "      <td>0.000000</td>\n",
       "      <td>1.000000</td>\n",
       "      <td>0.000000</td>\n",
       "      <td>2.000000</td>\n",
       "      <td>0.000000</td>\n",
       "    </tr>\n",
       "    <tr>\n",
       "      <th>50%</th>\n",
       "      <td>54.000000</td>\n",
       "      <td>1.000000</td>\n",
       "      <td>1.000000</td>\n",
       "      <td>130.000000</td>\n",
       "      <td>240.000000</td>\n",
       "      <td>0.000000</td>\n",
       "      <td>1.000000</td>\n",
       "      <td>157.500000</td>\n",
       "      <td>0.000000</td>\n",
       "      <td>0.400000</td>\n",
       "      <td>2.000000</td>\n",
       "      <td>0.000000</td>\n",
       "      <td>2.000000</td>\n",
       "      <td>1.000000</td>\n",
       "    </tr>\n",
       "    <tr>\n",
       "      <th>75%</th>\n",
       "      <td>61.000000</td>\n",
       "      <td>1.000000</td>\n",
       "      <td>2.000000</td>\n",
       "      <td>140.000000</td>\n",
       "      <td>273.000000</td>\n",
       "      <td>0.000000</td>\n",
       "      <td>1.000000</td>\n",
       "      <td>170.000000</td>\n",
       "      <td>0.000000</td>\n",
       "      <td>1.400000</td>\n",
       "      <td>2.000000</td>\n",
       "      <td>1.000000</td>\n",
       "      <td>2.000000</td>\n",
       "      <td>1.000000</td>\n",
       "    </tr>\n",
       "    <tr>\n",
       "      <th>max</th>\n",
       "      <td>77.000000</td>\n",
       "      <td>1.000000</td>\n",
       "      <td>3.000000</td>\n",
       "      <td>180.000000</td>\n",
       "      <td>417.000000</td>\n",
       "      <td>1.000000</td>\n",
       "      <td>2.000000</td>\n",
       "      <td>202.000000</td>\n",
       "      <td>1.000000</td>\n",
       "      <td>4.400000</td>\n",
       "      <td>2.000000</td>\n",
       "      <td>3.000000</td>\n",
       "      <td>2.000000</td>\n",
       "      <td>1.000000</td>\n",
       "    </tr>\n",
       "  </tbody>\n",
       "</table>\n",
       "</div>"
      ],
      "text/plain": [
       "              age         sex          cp    trestbps        chol         fbs  \\\n",
       "count  604.000000  604.000000  604.000000  604.000000  604.000000  604.000000   \n",
       "mean    53.839404    0.571192    1.129139  129.938742  244.274834    0.144040   \n",
       "std      9.590749    0.495316    1.005728   16.226155   48.284027    0.351421   \n",
       "min     29.000000    0.000000    0.000000   94.000000  141.000000    0.000000   \n",
       "25%     46.000000    0.000000    0.000000  120.000000  209.000000    0.000000   \n",
       "50%     54.000000    1.000000    1.000000  130.000000  240.000000    0.000000   \n",
       "75%     61.000000    1.000000    2.000000  140.000000  273.000000    0.000000   \n",
       "max     77.000000    1.000000    3.000000  180.000000  417.000000    1.000000   \n",
       "\n",
       "          restecg     thalach       exang     oldpeak       slope          ca  \\\n",
       "count  604.000000  604.000000  604.000000  604.000000  604.000000  604.000000   \n",
       "mean     0.533113  152.718543    0.226821    0.800497    1.481788    0.528146   \n",
       "std      0.534603   23.063261    0.419123    0.998797    0.613285    0.854722   \n",
       "min      0.000000   71.000000    0.000000    0.000000    0.000000    0.000000   \n",
       "25%      0.000000  140.000000    0.000000    0.000000    1.000000    0.000000   \n",
       "50%      1.000000  157.500000    0.000000    0.400000    2.000000    0.000000   \n",
       "75%      1.000000  170.000000    0.000000    1.400000    2.000000    1.000000   \n",
       "max      2.000000  202.000000    1.000000    4.400000    2.000000    3.000000   \n",
       "\n",
       "             thal      target  \n",
       "count  604.000000  604.000000  \n",
       "mean     1.870861    0.703642  \n",
       "std      0.368600    0.457029  \n",
       "min      0.000000    0.000000  \n",
       "25%      2.000000    0.000000  \n",
       "50%      2.000000    1.000000  \n",
       "75%      2.000000    1.000000  \n",
       "max      2.000000    1.000000  "
      ]
     },
     "execution_count": 15,
     "metadata": {},
     "output_type": "execute_result"
    }
   ],
   "source": [
    "data.describe()"
   ]
  },
  {
   "cell_type": "markdown",
   "id": "c502af0a",
   "metadata": {},
   "source": [
    "### STEP 4) EDA"
   ]
  },
  {
   "cell_type": "markdown",
   "id": "f839b1bd",
   "metadata": {},
   "source": [
    "### COORELATION MATRIX"
   ]
  },
  {
   "cell_type": "code",
   "execution_count": 16,
   "id": "bf4e2016",
   "metadata": {},
   "outputs": [
    {
     "data": {
      "text/html": [
       "<div>\n",
       "<style scoped>\n",
       "    .dataframe tbody tr th:only-of-type {\n",
       "        vertical-align: middle;\n",
       "    }\n",
       "\n",
       "    .dataframe tbody tr th {\n",
       "        vertical-align: top;\n",
       "    }\n",
       "\n",
       "    .dataframe thead th {\n",
       "        text-align: right;\n",
       "    }\n",
       "</style>\n",
       "<table border=\"1\" class=\"dataframe\">\n",
       "  <thead>\n",
       "    <tr style=\"text-align: right;\">\n",
       "      <th></th>\n",
       "      <th>age</th>\n",
       "      <th>sex</th>\n",
       "      <th>cp</th>\n",
       "      <th>trestbps</th>\n",
       "      <th>chol</th>\n",
       "      <th>fbs</th>\n",
       "      <th>restecg</th>\n",
       "      <th>thalach</th>\n",
       "      <th>exang</th>\n",
       "      <th>oldpeak</th>\n",
       "      <th>slope</th>\n",
       "      <th>ca</th>\n",
       "      <th>thal</th>\n",
       "      <th>target</th>\n",
       "    </tr>\n",
       "  </thead>\n",
       "  <tbody>\n",
       "    <tr>\n",
       "      <th>age</th>\n",
       "      <td>1.000000</td>\n",
       "      <td>-0.120646</td>\n",
       "      <td>-0.076590</td>\n",
       "      <td>0.273425</td>\n",
       "      <td>0.243978</td>\n",
       "      <td>0.195327</td>\n",
       "      <td>-0.122031</td>\n",
       "      <td>-0.471085</td>\n",
       "      <td>0.139859</td>\n",
       "      <td>0.189421</td>\n",
       "      <td>-0.154300</td>\n",
       "      <td>0.385234</td>\n",
       "      <td>-0.059824</td>\n",
       "      <td>-0.289337</td>\n",
       "    </tr>\n",
       "    <tr>\n",
       "      <th>sex</th>\n",
       "      <td>-0.120646</td>\n",
       "      <td>1.000000</td>\n",
       "      <td>-0.005170</td>\n",
       "      <td>-0.062287</td>\n",
       "      <td>-0.172580</td>\n",
       "      <td>0.069610</td>\n",
       "      <td>-0.099728</td>\n",
       "      <td>-0.025390</td>\n",
       "      <td>0.109814</td>\n",
       "      <td>0.102001</td>\n",
       "      <td>-0.039399</td>\n",
       "      <td>0.097106</td>\n",
       "      <td>-0.212977</td>\n",
       "      <td>-0.276598</td>\n",
       "    </tr>\n",
       "    <tr>\n",
       "      <th>cp</th>\n",
       "      <td>-0.076590</td>\n",
       "      <td>-0.005170</td>\n",
       "      <td>1.000000</td>\n",
       "      <td>0.067149</td>\n",
       "      <td>-0.108990</td>\n",
       "      <td>0.186584</td>\n",
       "      <td>0.029046</td>\n",
       "      <td>0.228784</td>\n",
       "      <td>-0.333199</td>\n",
       "      <td>-0.115298</td>\n",
       "      <td>0.135565</td>\n",
       "      <td>-0.123846</td>\n",
       "      <td>0.143478</td>\n",
       "      <td>0.314308</td>\n",
       "    </tr>\n",
       "    <tr>\n",
       "      <th>trestbps</th>\n",
       "      <td>0.273425</td>\n",
       "      <td>-0.062287</td>\n",
       "      <td>0.067149</td>\n",
       "      <td>1.000000</td>\n",
       "      <td>0.171975</td>\n",
       "      <td>0.161216</td>\n",
       "      <td>-0.031406</td>\n",
       "      <td>-0.067847</td>\n",
       "      <td>0.059108</td>\n",
       "      <td>0.154966</td>\n",
       "      <td>-0.021860</td>\n",
       "      <td>0.075756</td>\n",
       "      <td>-0.113899</td>\n",
       "      <td>-0.090561</td>\n",
       "    </tr>\n",
       "    <tr>\n",
       "      <th>chol</th>\n",
       "      <td>0.243978</td>\n",
       "      <td>-0.172580</td>\n",
       "      <td>-0.108990</td>\n",
       "      <td>0.171975</td>\n",
       "      <td>1.000000</td>\n",
       "      <td>0.031089</td>\n",
       "      <td>-0.101091</td>\n",
       "      <td>0.012537</td>\n",
       "      <td>0.025596</td>\n",
       "      <td>0.022318</td>\n",
       "      <td>0.089999</td>\n",
       "      <td>0.155043</td>\n",
       "      <td>0.137295</td>\n",
       "      <td>-0.087010</td>\n",
       "    </tr>\n",
       "    <tr>\n",
       "      <th>fbs</th>\n",
       "      <td>0.195327</td>\n",
       "      <td>0.069610</td>\n",
       "      <td>0.186584</td>\n",
       "      <td>0.161216</td>\n",
       "      <td>0.031089</td>\n",
       "      <td>1.000000</td>\n",
       "      <td>-0.153424</td>\n",
       "      <td>-0.081746</td>\n",
       "      <td>0.025520</td>\n",
       "      <td>0.033341</td>\n",
       "      <td>-0.045519</td>\n",
       "      <td>0.160397</td>\n",
       "      <td>-0.189030</td>\n",
       "      <td>-0.084843</td>\n",
       "    </tr>\n",
       "    <tr>\n",
       "      <th>restecg</th>\n",
       "      <td>-0.122031</td>\n",
       "      <td>-0.099728</td>\n",
       "      <td>0.029046</td>\n",
       "      <td>-0.031406</td>\n",
       "      <td>-0.101091</td>\n",
       "      <td>-0.153424</td>\n",
       "      <td>1.000000</td>\n",
       "      <td>0.055500</td>\n",
       "      <td>-0.111289</td>\n",
       "      <td>0.051681</td>\n",
       "      <td>0.039778</td>\n",
       "      <td>-0.141772</td>\n",
       "      <td>0.004905</td>\n",
       "      <td>0.118286</td>\n",
       "    </tr>\n",
       "    <tr>\n",
       "      <th>thalach</th>\n",
       "      <td>-0.471085</td>\n",
       "      <td>-0.025390</td>\n",
       "      <td>0.228784</td>\n",
       "      <td>-0.067847</td>\n",
       "      <td>0.012537</td>\n",
       "      <td>-0.081746</td>\n",
       "      <td>0.055500</td>\n",
       "      <td>1.000000</td>\n",
       "      <td>-0.335822</td>\n",
       "      <td>-0.332943</td>\n",
       "      <td>0.379398</td>\n",
       "      <td>-0.299764</td>\n",
       "      <td>0.248733</td>\n",
       "      <td>0.420804</td>\n",
       "    </tr>\n",
       "    <tr>\n",
       "      <th>exang</th>\n",
       "      <td>0.139859</td>\n",
       "      <td>0.109814</td>\n",
       "      <td>-0.333199</td>\n",
       "      <td>0.059108</td>\n",
       "      <td>0.025596</td>\n",
       "      <td>0.025520</td>\n",
       "      <td>-0.111289</td>\n",
       "      <td>-0.335822</td>\n",
       "      <td>1.000000</td>\n",
       "      <td>0.210880</td>\n",
       "      <td>-0.277458</td>\n",
       "      <td>0.146490</td>\n",
       "      <td>-0.207263</td>\n",
       "      <td>-0.384389</td>\n",
       "    </tr>\n",
       "    <tr>\n",
       "      <th>oldpeak</th>\n",
       "      <td>0.189421</td>\n",
       "      <td>0.102001</td>\n",
       "      <td>-0.115298</td>\n",
       "      <td>0.154966</td>\n",
       "      <td>0.022318</td>\n",
       "      <td>0.033341</td>\n",
       "      <td>0.051681</td>\n",
       "      <td>-0.332943</td>\n",
       "      <td>0.210880</td>\n",
       "      <td>1.000000</td>\n",
       "      <td>-0.565955</td>\n",
       "      <td>0.249703</td>\n",
       "      <td>-0.203881</td>\n",
       "      <td>-0.365517</td>\n",
       "    </tr>\n",
       "    <tr>\n",
       "      <th>slope</th>\n",
       "      <td>-0.154300</td>\n",
       "      <td>-0.039399</td>\n",
       "      <td>0.135565</td>\n",
       "      <td>-0.021860</td>\n",
       "      <td>0.089999</td>\n",
       "      <td>-0.045519</td>\n",
       "      <td>0.039778</td>\n",
       "      <td>0.379398</td>\n",
       "      <td>-0.277458</td>\n",
       "      <td>-0.565955</td>\n",
       "      <td>1.000000</td>\n",
       "      <td>-0.109750</td>\n",
       "      <td>0.261014</td>\n",
       "      <td>0.303170</td>\n",
       "    </tr>\n",
       "    <tr>\n",
       "      <th>ca</th>\n",
       "      <td>0.385234</td>\n",
       "      <td>0.097106</td>\n",
       "      <td>-0.123846</td>\n",
       "      <td>0.075756</td>\n",
       "      <td>0.155043</td>\n",
       "      <td>0.160397</td>\n",
       "      <td>-0.141772</td>\n",
       "      <td>-0.299764</td>\n",
       "      <td>0.146490</td>\n",
       "      <td>0.249703</td>\n",
       "      <td>-0.109750</td>\n",
       "      <td>1.000000</td>\n",
       "      <td>-0.109512</td>\n",
       "      <td>-0.511404</td>\n",
       "    </tr>\n",
       "    <tr>\n",
       "      <th>thal</th>\n",
       "      <td>-0.059824</td>\n",
       "      <td>-0.212977</td>\n",
       "      <td>0.143478</td>\n",
       "      <td>-0.113899</td>\n",
       "      <td>0.137295</td>\n",
       "      <td>-0.189030</td>\n",
       "      <td>0.004905</td>\n",
       "      <td>0.248733</td>\n",
       "      <td>-0.207263</td>\n",
       "      <td>-0.203881</td>\n",
       "      <td>0.261014</td>\n",
       "      <td>-0.109512</td>\n",
       "      <td>1.000000</td>\n",
       "      <td>0.274499</td>\n",
       "    </tr>\n",
       "    <tr>\n",
       "      <th>target</th>\n",
       "      <td>-0.289337</td>\n",
       "      <td>-0.276598</td>\n",
       "      <td>0.314308</td>\n",
       "      <td>-0.090561</td>\n",
       "      <td>-0.087010</td>\n",
       "      <td>-0.084843</td>\n",
       "      <td>0.118286</td>\n",
       "      <td>0.420804</td>\n",
       "      <td>-0.384389</td>\n",
       "      <td>-0.365517</td>\n",
       "      <td>0.303170</td>\n",
       "      <td>-0.511404</td>\n",
       "      <td>0.274499</td>\n",
       "      <td>1.000000</td>\n",
       "    </tr>\n",
       "  </tbody>\n",
       "</table>\n",
       "</div>"
      ],
      "text/plain": [
       "               age       sex        cp  trestbps      chol       fbs  \\\n",
       "age       1.000000 -0.120646 -0.076590  0.273425  0.243978  0.195327   \n",
       "sex      -0.120646  1.000000 -0.005170 -0.062287 -0.172580  0.069610   \n",
       "cp       -0.076590 -0.005170  1.000000  0.067149 -0.108990  0.186584   \n",
       "trestbps  0.273425 -0.062287  0.067149  1.000000  0.171975  0.161216   \n",
       "chol      0.243978 -0.172580 -0.108990  0.171975  1.000000  0.031089   \n",
       "fbs       0.195327  0.069610  0.186584  0.161216  0.031089  1.000000   \n",
       "restecg  -0.122031 -0.099728  0.029046 -0.031406 -0.101091 -0.153424   \n",
       "thalach  -0.471085 -0.025390  0.228784 -0.067847  0.012537 -0.081746   \n",
       "exang     0.139859  0.109814 -0.333199  0.059108  0.025596  0.025520   \n",
       "oldpeak   0.189421  0.102001 -0.115298  0.154966  0.022318  0.033341   \n",
       "slope    -0.154300 -0.039399  0.135565 -0.021860  0.089999 -0.045519   \n",
       "ca        0.385234  0.097106 -0.123846  0.075756  0.155043  0.160397   \n",
       "thal     -0.059824 -0.212977  0.143478 -0.113899  0.137295 -0.189030   \n",
       "target   -0.289337 -0.276598  0.314308 -0.090561 -0.087010 -0.084843   \n",
       "\n",
       "           restecg   thalach     exang   oldpeak     slope        ca  \\\n",
       "age      -0.122031 -0.471085  0.139859  0.189421 -0.154300  0.385234   \n",
       "sex      -0.099728 -0.025390  0.109814  0.102001 -0.039399  0.097106   \n",
       "cp        0.029046  0.228784 -0.333199 -0.115298  0.135565 -0.123846   \n",
       "trestbps -0.031406 -0.067847  0.059108  0.154966 -0.021860  0.075756   \n",
       "chol     -0.101091  0.012537  0.025596  0.022318  0.089999  0.155043   \n",
       "fbs      -0.153424 -0.081746  0.025520  0.033341 -0.045519  0.160397   \n",
       "restecg   1.000000  0.055500 -0.111289  0.051681  0.039778 -0.141772   \n",
       "thalach   0.055500  1.000000 -0.335822 -0.332943  0.379398 -0.299764   \n",
       "exang    -0.111289 -0.335822  1.000000  0.210880 -0.277458  0.146490   \n",
       "oldpeak   0.051681 -0.332943  0.210880  1.000000 -0.565955  0.249703   \n",
       "slope     0.039778  0.379398 -0.277458 -0.565955  1.000000 -0.109750   \n",
       "ca       -0.141772 -0.299764  0.146490  0.249703 -0.109750  1.000000   \n",
       "thal      0.004905  0.248733 -0.207263 -0.203881  0.261014 -0.109512   \n",
       "target    0.118286  0.420804 -0.384389 -0.365517  0.303170 -0.511404   \n",
       "\n",
       "              thal    target  \n",
       "age      -0.059824 -0.289337  \n",
       "sex      -0.212977 -0.276598  \n",
       "cp        0.143478  0.314308  \n",
       "trestbps -0.113899 -0.090561  \n",
       "chol      0.137295 -0.087010  \n",
       "fbs      -0.189030 -0.084843  \n",
       "restecg   0.004905  0.118286  \n",
       "thalach   0.248733  0.420804  \n",
       "exang    -0.207263 -0.384389  \n",
       "oldpeak  -0.203881 -0.365517  \n",
       "slope     0.261014  0.303170  \n",
       "ca       -0.109512 -0.511404  \n",
       "thal      1.000000  0.274499  \n",
       "target    0.274499  1.000000  "
      ]
     },
     "execution_count": 16,
     "metadata": {},
     "output_type": "execute_result"
    }
   ],
   "source": [
    "corr=data.corr()\n",
    "corr"
   ]
  },
  {
   "cell_type": "code",
   "execution_count": 17,
   "id": "396ca1e7",
   "metadata": {},
   "outputs": [
    {
     "data": {
      "text/plain": [
       "<AxesSubplot:>"
      ]
     },
     "execution_count": 17,
     "metadata": {},
     "output_type": "execute_result"
    },
    {
     "data": {
      "image/png": "[encoded data removed]",
      "text/plain": [
       "<Figure size 720x720 with 2 Axes>"
      ]
     },
     "metadata": {
      "needs_background": "light"
     },
     "output_type": "display_data"
    }
   ],
   "source": [
    "fig, ax = plt.subplots(figsize=(10,10))  \n",
    "sns.heatmap(corr,annot=True)"
   ]
  },
  {
   "cell_type": "markdown",
   "id": "5c16e127",
   "metadata": {},
   "source": [
    "#### Through coorelation  we have found that ['thalach','ca','oldpeak','age','exang','cp','chol','sex','slope','trestbps'] are important features"
   ]
  },
  {
   "cell_type": "markdown",
   "id": "1e17388e",
   "metadata": {},
   "source": [
    "### PLOTTING GRAPHS"
   ]
  },
  {
   "cell_type": "code",
   "execution_count": 19,
   "id": "0f62caa7",
   "metadata": {},
   "outputs": [
    {
     "data": {
      "text/plain": [
       "<AxesSubplot:xlabel='target', ylabel='thalach'>"
      ]
     },
     "execution_count": 19,
     "metadata": {},
     "output_type": "execute_result"
    },
    {
     "data": {
      "image/png": "[encoded data removed]",
      "text/plain": [
       "<Figure size 432x288 with 1 Axes>"
      ]
     },
     "metadata": {
      "needs_background": "light"
     },
     "output_type": "display_data"
    }
   ],
   "source": [
    "sns.barplot(x = 'target',y = 'thalach',data = data)\n",
    " "
   ]
  },
  {
   "cell_type": "code",
   "execution_count": 28,
   "id": "b21bf623",
   "metadata": {},
   "outputs": [
    {
     "data": {
      "text/plain": [
       "<AxesSubplot:xlabel='target', ylabel='ca'>"
      ]
     },
     "execution_count": 28,
     "metadata": {},
     "output_type": "execute_result"
    },
    {
     "data": {
      "image/png": "[encoded data removed]",
      "text/plain": [
       "<Figure size 432x288 with 1 Axes>"
      ]
     },
     "metadata": {
      "needs_background": "light"
     },
     "output_type": "display_data"
    }
   ],
   "source": [
    "sns.barplot(x = 'target',y = 'ca',data = data)"
   ]
  },
  {
   "cell_type": "code",
   "execution_count": 29,
   "id": "4693895c",
   "metadata": {},
   "outputs": [
    {
     "data": {
      "text/plain": [
       "<AxesSubplot:xlabel='target', ylabel='oldpeak'>"
      ]
     },
     "execution_count": 29,
     "metadata": {},
     "output_type": "execute_result"
    },
    {
     "data": {
      "image/png": "[encoded data removed]",
      "text/plain": [
       "<Figure size 432x288 with 1 Axes>"
      ]
     },
     "metadata": {
      "needs_background": "light"
     },
     "output_type": "display_data"
    }
   ],
   "source": [
    "sns.barplot(x = 'target',y = 'oldpeak',data = data)"
   ]
  },
  {
   "cell_type": "code",
   "execution_count": 30,
   "id": "efb6f77a",
   "metadata": {},
   "outputs": [
    {
     "data": {
      "text/plain": [
       "<AxesSubplot:xlabel='target', ylabel='age'>"
      ]
     },
     "execution_count": 30,
     "metadata": {},
     "output_type": "execute_result"
    },
    {
     "data": {
      "image/png": "[encoded data removed]",
      "text/plain": [
       "<Figure size 432x288 with 1 Axes>"
      ]
     },
     "metadata": {
      "needs_background": "light"
     },
     "output_type": "display_data"
    }
   ],
   "source": [
    "sns.barplot(x = 'target',y = 'age',data = data)"
   ]
  },
  {
   "cell_type": "code",
   "execution_count": 31,
   "id": "27b9db1c",
   "metadata": {},
   "outputs": [
    {
     "data": {
      "text/plain": [
       "<AxesSubplot:xlabel='target', ylabel='exang'>"
      ]
     },
     "execution_count": 31,
     "metadata": {},
     "output_type": "execute_result"
    },
    {
     "data": {
      "image/png": "[encoded data removed]",
      "text/plain": [
       "<Figure size 432x288 with 1 Axes>"
      ]
     },
     "metadata": {
      "needs_background": "light"
     },
     "output_type": "display_data"
    }
   ],
   "source": [
    "sns.barplot(x = 'target',y = 'exang',data = data)"
   ]
  },
  {
   "cell_type": "code",
   "execution_count": 32,
   "id": "d3165b87",
   "metadata": {},
   "outputs": [
    {
     "data": {
      "text/plain": [
       "<AxesSubplot:xlabel='target', ylabel='cp'>"
      ]
     },
     "execution_count": 32,
     "metadata": {},
     "output_type": "execute_result"
    },
    {
     "data": {
      "image/png": "[encoded data removed]",
      "text/plain": [
       "<Figure size 432x288 with 1 Axes>"
      ]
     },
     "metadata": {
      "needs_background": "light"
     },
     "output_type": "display_data"
    }
   ],
   "source": [
    "sns.barplot(x = 'target',y = 'cp',data = data)"
   ]
  },
  {
   "cell_type": "code",
   "execution_count": 33,
   "id": "1a1e69d6",
   "metadata": {},
   "outputs": [
    {
     "data": {
      "text/plain": [
       "<AxesSubplot:xlabel='target', ylabel='chol'>"
      ]
     },
     "execution_count": 33,
     "metadata": {},
     "output_type": "execute_result"
    },
    {
     "data": {
      "image/png": "[encoded data removed]",
      "text/plain": [
       "<Figure size 432x288 with 1 Axes>"
      ]
     },
     "metadata": {
      "needs_background": "light"
     },
     "output_type": "display_data"
    }
   ],
   "source": [
    "sns.barplot(x = 'target',y = 'chol',data = data)"
   ]
  },
  {
   "cell_type": "code",
   "execution_count": 34,
   "id": "2a1409cc",
   "metadata": {},
   "outputs": [
    {
     "data": {
      "text/plain": [
       "<AxesSubplot:xlabel='target', ylabel='sex'>"
      ]
     },
     "execution_count": 34,
     "metadata": {},
     "output_type": "execute_result"
    },
    {
     "data": {
      "image/png": "[encoded data removed]",
      "text/plain": [
       "<Figure size 432x288 with 1 Axes>"
      ]
     },
     "metadata": {
      "needs_background": "light"
     },
     "output_type": "display_data"
    }
   ],
   "source": [
    "sns.barplot(x = 'target',y = 'sex',data = data)"
   ]
  },
  {
   "cell_type": "code",
   "execution_count": 35,
   "id": "a110a795",
   "metadata": {},
   "outputs": [
    {
     "data": {
      "text/plain": [
       "<AxesSubplot:xlabel='target', ylabel='slope'>"
      ]
     },
     "execution_count": 35,
     "metadata": {},
     "output_type": "execute_result"
    },
    {
     "data": {
      "image/png": "[encoded data removed]",
      "text/plain": [
       "<Figure size 432x288 with 1 Axes>"
      ]
     },
     "metadata": {
      "needs_background": "light"
     },
     "output_type": "display_data"
    }
   ],
   "source": [
    "sns.barplot(x = 'target',y = 'slope',data = data)"
   ]
  },
  {
   "cell_type": "code",
   "execution_count": 36,
   "id": "76b31100",
   "metadata": {},
   "outputs": [
    {
     "data": {
      "text/plain": [
       "<AxesSubplot:xlabel='target', ylabel='trestbps'>"
      ]
     },
     "execution_count": 36,
     "metadata": {},
     "output_type": "execute_result"
    },
    {
     "data": {
      "image/png": "[encoded data removed]",
      "text/plain": [
       "<Figure size 432x288 with 1 Axes>"
      ]
     },
     "metadata": {
      "needs_background": "light"
     },
     "output_type": "display_data"
    }
   ],
   "source": [
    "sns.barplot(x = 'target',y = 'trestbps',data = data)"
   ]
  },
  {
   "cell_type": "markdown",
   "id": "0d01cc68",
   "metadata": {},
   "source": [
    "### STEP 5) MODEL TRAINING"
   ]
  },
  {
   "cell_type": "markdown",
   "id": "1b4b5fa7",
   "metadata": {},
   "source": [
    "### SPLITTING DATA"
   ]
  },
  {
   "cell_type": "code",
   "execution_count": 24,
   "id": "cd37cd05",
   "metadata": {},
   "outputs": [],
   "source": [
    "df1=data[['thalach','ca','oldpeak','age','exang','cp','chol','sex','slope','trestbps','restecg']]\n",
    "df2=data['target']\n",
    "data_train, data_test, label_train, label_test = train_test_split(df1, df2, test_size = 0.3, random_state = 50)"
   ]
  },
  {
   "cell_type": "markdown",
   "id": "26693f1e",
   "metadata": {},
   "source": [
    "### 5.1) KNN "
   ]
  },
  {
   "cell_type": "code",
   "execution_count": 25,
   "id": "4a8b26bd",
   "metadata": {},
   "outputs": [
    {
     "name": "stdout",
     "output_type": "stream",
     "text": [
      "Training score:  0.985781990521327\n",
      "Testing score:  0.9175824175824175\n"
     ]
    }
   ],
   "source": [
    "from sklearn.neighbors import KNeighborsClassifier\n",
    "from sklearn.metrics import accuracy_score\n",
    "model=KNeighborsClassifier(n_neighbors=2)\n",
    "model.fit(data_train,label_train)\n",
    "model_train = model.score(data_train, label_train)\n",
    "print(\"Training score: \",model_train)\n",
    "model_test = model.score(data_test, label_test)\n",
    "print(\"Testing score: \",model_test)\n"
   ]
  },
  {
   "cell_type": "markdown",
   "id": "e3e14e3d",
   "metadata": {},
   "source": [
    "### 5.2) SVM"
   ]
  },
  {
   "cell_type": "code",
   "execution_count": 26,
   "id": "994b2088",
   "metadata": {},
   "outputs": [
    {
     "name": "stdout",
     "output_type": "stream",
     "text": [
      "Training score:  0.7156398104265402\n",
      "Testing score:  0.6978021978021978\n"
     ]
    }
   ],
   "source": [
    "from sklearn.svm import SVC\n",
    "model1 = SVC()\n",
    "model1.fit(data_train, label_train)\n",
    "model_train1 = model1.score(data_train, label_train)\n",
    "print(\"Training score: \",model_train1)\n",
    "model_test1 = model1.score(data_test, label_test)\n",
    "print(\"Testing score: \",model_test1)"
   ]
  },
  {
   "cell_type": "markdown",
   "id": "e987df01",
   "metadata": {},
   "source": [
    "### 5.3) LOGISTIC REGRESSION"
   ]
  },
  {
   "cell_type": "code",
   "execution_count": 27,
   "id": "9ef09062",
   "metadata": {},
   "outputs": [
    {
     "name": "stdout",
     "output_type": "stream",
     "text": [
      "Training score:  0.8744075829383886\n",
      "Testing score:  0.8406593406593407\n"
     ]
    }
   ],
   "source": [
    "from sklearn.linear_model import LogisticRegression \n",
    "logreg =  LogisticRegression(solver='liblinear') \n",
    "model2=logreg.fit(data_train,label_train) \n",
    "model_train2 = model2.score(data_train, label_train)\n",
    "print(\"Training score: \",model_train2)\n",
    "model_test2 = model2.score(data_test, label_test)\n",
    "print(\"Testing score: \",model_test2)\n"
   ]
  },
  {
   "cell_type": "markdown",
   "id": "a6a3485e",
   "metadata": {},
   "source": [
    "# We will select KNN"
   ]
  },
  {
   "cell_type": "code",
   "execution_count": 43,
   "id": "bcd80959",
   "metadata": {},
   "outputs": [],
   "source": []
  },
  {
   "cell_type": "code",
   "execution_count": null,
   "id": "aaaf9b1a",
   "metadata": {},
   "outputs": [],
   "source": []
  },
  {
   "cell_type": "code",
   "execution_count": null,
   "id": "caab15df",
   "metadata": {},
   "outputs": [],
   "source": []
  },
  {
   "cell_type": "code",
   "execution_count": null,
   "id": "93be88f0",
   "metadata": {},
   "outputs": [],
   "source": []
  },
  {
   "cell_type": "code",
   "execution_count": null,
   "id": "3a7ead88",
   "metadata": {},
   "outputs": [],
   "source": []
  },
  {
   "cell_type": "code",
   "execution_count": null,
   "id": "fbf402b1",
   "metadata": {},
   "outputs": [],
   "source": []
  },
  {
   "cell_type": "code",
   "execution_count": null,
   "id": "f47d50f5",
   "metadata": {},
   "outputs": [],
   "source": []
  },
  {
   "cell_type": "code",
   "execution_count": null,
   "id": "c520c62e",
   "metadata": {},
   "outputs": [],
   "source": []
  },
  {
   "cell_type": "code",
   "execution_count": null,
   "id": "10f412d6",
   "metadata": {},
   "outputs": [],
   "source": []
  },
  {
   "cell_type": "code",
   "execution_count": null,
   "id": "49cf965e",
   "metadata": {},
   "outputs": [],
   "source": []
  },
  {
   "cell_type": "code",
   "execution_count": null,
   "id": "728bad87",
   "metadata": {},
   "outputs": [],
   "source": []
  },
  {
   "cell_type": "code",
   "execution_count": null,
   "id": "bf24a256",
   "metadata": {},
   "outputs": [],
   "source": []
  },
  {
   "cell_type": "code",
   "execution_count": null,
   "id": "854645d7",
   "metadata": {},
   "outputs": [],
   "source": []
  }
 ],
 "metadata": {
  "kernelspec": {
   "display_name": "Python 3",
   "language": "python",
   "name": "python3"
  },
  "language_info": {
   "codemirror_mode": {
    "name": "ipython",
    "version": 3
   },
   "file_extension": ".py",
   "mimetype": "text/x-python",
   "name": "python",
   "nbconvert_exporter": "python",
   "pygments_lexer": "ipython3",
   "version": "3.8.8"
  }
 },
 "nbformat": 4,
 "nbformat_minor": 5
}
